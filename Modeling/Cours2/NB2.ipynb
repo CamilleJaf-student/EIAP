{
 "cells": [
  {
   "cell_type": "markdown",
   "id": "2b5ee49f",
   "metadata": {},
   "source": [
    "Cours 2"
   ]
  },
  {
   "cell_type": "markdown",
   "id": "c23b5a42",
   "metadata": {},
   "source": [
    "What is a change equation a matter os stocks and flows"
   ]
  },
  {
   "cell_type": "markdown",
   "id": "2eeb197d",
   "metadata": {},
   "source": [
    "Example of change equation : \n",
    "\n",
    "# state of a bathtub : X = amount of water inside the tub (in liters)\n",
    "\n",
    "> inflow is : change of the state : inflow of waters through the faucet (L/min)\n",
    "\n",
    "levels are changed by flows, that is, quantities are changed by rates\n",
    "\n",
    "-> change equation : \n",
    "X : state variable\n",
    "X': change in X\n",
    "\n",
    "-> X' = the things that change X\n",
    "\n",
    "bathtub example : X' = faucet\n",
    "\n",
    "> outflows\n",
    "change of the state : outflow of water through the drain (L/min)\n",
    "-> now the change equation become : X' = - outflow\n",
    "\n",
    "minus sign ? outflow will subtract, Y, is not constant depend on the outflow ? amount of water in the bathtub, hence on X\n",
    "\n",
    "\"greater water level -> greater flow\" : assume (simplicity) a proportionnality relation, namely :\n",
    "Y = kX\n",
    "\n",
    "for the bathtub, constant of proportionality k is the width of the drainpipe\n",
    "\n",
    "-> X' = -kX\n",
    "\n",
    "change equations tell us how fast the state variables are changing and if the change is positive or negative\n",
    "\n",
    "state variables can be seen as stocks change equations record the inflows and outflows of each stock"
   ]
  },
  {
   "cell_type": "code",
   "execution_count": null,
   "id": "18b95782",
   "metadata": {},
   "outputs": [],
   "source": []
  }
 ],
 "metadata": {
  "language_info": {
   "name": "python"
  }
 },
 "nbformat": 4,
 "nbformat_minor": 5
}
