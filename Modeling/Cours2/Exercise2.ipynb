{
 "cells": [
  {
   "cell_type": "markdown",
   "id": "0e817a5a",
   "metadata": {},
   "source": []
  },
  {
   "cell_type": "markdown",
   "id": "08cd549a",
   "metadata": {},
   "source": [
    "modulo function : pour modéliser un feu tricolore\n",
    "multiple pf 3+1 = a\n",
    "multiple of 3+2 = b\n",
    "multiple of 3 = c\n",
    "\n",
    "cobweb : \n",
    "utilise lui des droites puis retoune à 0\n",
    "graphique en toit d'usine\n",
    "\n",
    "cobweb for linear map : \n",
    "- regarder minus et comment l'utiliser depuis lab 1"
   ]
  },
  {
   "cell_type": "code",
   "execution_count": null,
   "id": "e472b242",
   "metadata": {},
   "outputs": [],
   "source": []
  }
 ],
 "metadata": {
  "language_info": {
   "name": "python"
  }
 },
 "nbformat": 4,
 "nbformat_minor": 5
}
