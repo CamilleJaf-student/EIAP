{
 "cells": [
  {
   "cell_type": "markdown",
   "id": "d41bcd1d",
   "metadata": {},
   "source": [
    "Cours 2"
   ]
  },
  {
   "cell_type": "code",
   "execution_count": null,
   "id": "06c142a5",
   "metadata": {},
   "outputs": [],
   "source": [
    "Cours 2"
   ]
  },
  {
   "cell_type": "code",
   "execution_count": null,
   "id": "7886f5a7",
   "metadata": {},
   "outputs": [],
   "source": []
  }
 ],
 "metadata": {
  "kernelspec": {
   "display_name": "eiap",
   "language": "python",
   "name": "python3"
  },
  "language_info": {
   "name": "python",
   "version": "3.11.13"
  }
 },
 "nbformat": 4,
 "nbformat_minor": 5
}
