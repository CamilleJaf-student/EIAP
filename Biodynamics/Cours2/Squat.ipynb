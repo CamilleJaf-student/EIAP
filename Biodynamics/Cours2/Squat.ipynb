{
 "cells": [
  {
   "cell_type": "code",
   "execution_count": null,
   "id": "136ab49b",
   "metadata": {},
   "outputs": [
    {
     "ename": "",
     "evalue": "",
     "output_type": "error",
     "traceback": [
      "\u001b[1;31mFailed to start the Kernel. \n",
      "\u001b[1;31mEPERM: operation not permitted, scandir '/Users/camille/Desktop/IEAP/Biodynamics/2ndsession'. \n",
      "\u001b[1;31mView Jupyter <a href='command:jupyter.viewOutput'>log</a> for further details."
     ]
    }
   ],
   "source": [
    "import pandas as pd\n",
    "import numpy as np\n",
    "import matplotlib.pyplot as plt\n",
    "from scipy.stats import pearsonr\n",
    "from scipy.signal import resample\n",
    "\n",
    "import os\n",
    "\n",
    "# Set the path to your CSV file\n",
    "csv_path = '/Users/camille/Desktop/IEAP/Biodynamics/2ndsession/squat_Kinematics.csv'\n",
    "\n",
    "# Import squat kinematics\n",
    "squat_kinematics = pd.read_csv(csv_path, skiprows=12)\n",
    "\n",
    "#Extract Back markers (MATLAB cols 16:19 -> Python col 17:19 zero-based)\n",
    "backXYZ = squat_kinematics.iloc[:, 16:19].to_numpy() * 1e-3  # Convert mm to m   \n",
    "\n",
    "#Smooth with moving average\n",
    "window = 10\n",
    "backXYZ_smooth = np.apply_along_axis(lambda m: np.convolve(m, np.ones(window)/window, mode='same'), 0, backXYZ)"
   ]
  },
  {
   "cell_type": "code",
   "execution_count": null,
   "id": "e8b277df",
   "metadata": {},
   "outputs": [],
   "source": [
    "Fs = 100 # Hz\n",
    "dt = 1/Fs\n",
    "N = backXYZ_smooth.shape[0]\n",
    "t = np.arange(N) * dt\n",
    "\n",
    "#Velocity\n",
    "vel = np.gradient(backXYZ, dt, axis=0)\n",
    "vel = np.apply_along_axis(lambda m: np.convolve(m, np.ones(window)/window, mode='same'), 0, vel)\n",
    "\n",
    "#Acceleration\n",
    "acc = np.gradient(vel, dt, axis=0)\n",
    "acc = np.apply_along_axis(lambda m: np.convolve(m, np.ones(window)/window, mode='same'), 0, acc)\n",
    "\n",
    "#Plot\n",
    "fig, axs = plt.subplots(3, 1, figsize=(10, 8), sharex=True)\n",
    "axs[0].plot(t, backXYZ); axs[0].set_title('Back Marker Position (m)'); axs[0].legend(['X', 'Y', 'Z'])\n",
    "axs[1].plot(t, vel); axs[1].set_title('Back Marker Velocity (m/s)'); axs[1].legend(['Vx', 'Vy', 'Vz'])\n",
    "axs[2].plot(t, acc); axs[2].set_title('Back Marker Acceleration (m/s²)'); axs[2].legend(['Ax', 'Ay', 'Az'])\n",
    "plt.xlabel\n",
    "plt.show()"
   ]
  },
  {
   "cell_type": "code",
   "execution_count": null,
   "id": "42630939",
   "metadata": {},
   "outputs": [],
   "source": []
  }
 ],
 "metadata": {
  "kernelspec": {
   "display_name": "base",
   "language": "python",
   "name": "python3"
  },
  "language_info": {
   "codemirror_mode": {
    "name": "ipython",
    "version": 3
   },
   "file_extension": ".py",
   "mimetype": "text/x-python",
   "name": "python",
   "nbconvert_exporter": "python",
   "pygments_lexer": "ipython3",
   "version": "3.13.5"
  }
 },
 "nbformat": 4,
 "nbformat_minor": 5
}
